{
 "cells": [
  {
   "cell_type": "code",
   "execution_count": 1,
   "metadata": {},
   "outputs": [
    {
     "name": "stderr",
     "output_type": "stream",
     "text": [
      "Using TensorFlow backend.\n"
     ]
    }
   ],
   "source": [
    "from keras.models import Sequential\n",
    "from keras.layers import Dense\n",
    "from sklearn.preprocessing import StandardScaler\n",
    "from sklearn.model_selection import train_test_split\n",
    "import pandas as pd\n",
    "import matplotlib.pyplot as plt\n",
    "%matplotlib inline"
   ]
  },
  {
   "cell_type": "code",
   "execution_count": 2,
   "metadata": {},
   "outputs": [],
   "source": [
    "df = pd.read_csv('full_resample.csv').drop(columns = 'Unnamed: 0')"
   ]
  },
  {
   "cell_type": "code",
   "execution_count": 3,
   "metadata": {},
   "outputs": [
    {
     "data": {
      "text/html": [
       "<div>\n",
       "<style scoped>\n",
       "    .dataframe tbody tr th:only-of-type {\n",
       "        vertical-align: middle;\n",
       "    }\n",
       "\n",
       "    .dataframe tbody tr th {\n",
       "        vertical-align: top;\n",
       "    }\n",
       "\n",
       "    .dataframe thead th {\n",
       "        text-align: right;\n",
       "    }\n",
       "</style>\n",
       "<table border=\"1\" class=\"dataframe\">\n",
       "  <thead>\n",
       "    <tr style=\"text-align: right;\">\n",
       "      <th></th>\n",
       "      <th>Season</th>\n",
       "      <th>Name</th>\n",
       "      <th>Team</th>\n",
       "      <th>G</th>\n",
       "      <th>AB</th>\n",
       "      <th>PA</th>\n",
       "      <th>H</th>\n",
       "      <th>R</th>\n",
       "      <th>RBI</th>\n",
       "      <th>HR</th>\n",
       "      <th>...</th>\n",
       "      <th>WAR</th>\n",
       "      <th>OBP+</th>\n",
       "      <th>TTO%</th>\n",
       "      <th>playerid</th>\n",
       "      <th>MVP</th>\n",
       "      <th>OPS+</th>\n",
       "      <th>traditional predictions</th>\n",
       "      <th>sabr_predictions</th>\n",
       "      <th>trad_proj</th>\n",
       "      <th>sabr_proj</th>\n",
       "    </tr>\n",
       "  </thead>\n",
       "  <tbody>\n",
       "    <tr>\n",
       "      <th>0</th>\n",
       "      <td>1999</td>\n",
       "      <td>Alex Rodriguez</td>\n",
       "      <td>Mariners</td>\n",
       "      <td>129</td>\n",
       "      <td>502</td>\n",
       "      <td>572</td>\n",
       "      <td>143</td>\n",
       "      <td>110</td>\n",
       "      <td>111</td>\n",
       "      <td>42</td>\n",
       "      <td>...</td>\n",
       "      <td>4.7</td>\n",
       "      <td>103</td>\n",
       "      <td>0.362</td>\n",
       "      <td>1274</td>\n",
       "      <td>0</td>\n",
       "      <td>120</td>\n",
       "      <td>0</td>\n",
       "      <td>0</td>\n",
       "      <td>0</td>\n",
       "      <td>0</td>\n",
       "    </tr>\n",
       "    <tr>\n",
       "      <th>1</th>\n",
       "      <td>1999</td>\n",
       "      <td>Garret Anderson</td>\n",
       "      <td>Angels</td>\n",
       "      <td>157</td>\n",
       "      <td>620</td>\n",
       "      <td>660</td>\n",
       "      <td>188</td>\n",
       "      <td>88</td>\n",
       "      <td>80</td>\n",
       "      <td>21</td>\n",
       "      <td>...</td>\n",
       "      <td>2.4</td>\n",
       "      <td>97</td>\n",
       "      <td>0.206</td>\n",
       "      <td>2</td>\n",
       "      <td>0</td>\n",
       "      <td>90</td>\n",
       "      <td>0</td>\n",
       "      <td>0</td>\n",
       "      <td>0</td>\n",
       "      <td>0</td>\n",
       "    </tr>\n",
       "    <tr>\n",
       "      <th>2</th>\n",
       "      <td>1999</td>\n",
       "      <td>Robin Ventura</td>\n",
       "      <td>Mets</td>\n",
       "      <td>161</td>\n",
       "      <td>588</td>\n",
       "      <td>671</td>\n",
       "      <td>177</td>\n",
       "      <td>88</td>\n",
       "      <td>120</td>\n",
       "      <td>32</td>\n",
       "      <td>...</td>\n",
       "      <td>7.3</td>\n",
       "      <td>108</td>\n",
       "      <td>0.320</td>\n",
       "      <td>854</td>\n",
       "      <td>0</td>\n",
       "      <td>115</td>\n",
       "      <td>0</td>\n",
       "      <td>0</td>\n",
       "      <td>0</td>\n",
       "      <td>1</td>\n",
       "    </tr>\n",
       "    <tr>\n",
       "      <th>3</th>\n",
       "      <td>2008</td>\n",
       "      <td>Edwin Encarnacion</td>\n",
       "      <td>Reds</td>\n",
       "      <td>146</td>\n",
       "      <td>506</td>\n",
       "      <td>582</td>\n",
       "      <td>127</td>\n",
       "      <td>75</td>\n",
       "      <td>68</td>\n",
       "      <td>26</td>\n",
       "      <td>...</td>\n",
       "      <td>1.6</td>\n",
       "      <td>100</td>\n",
       "      <td>0.325</td>\n",
       "      <td>2151</td>\n",
       "      <td>0</td>\n",
       "      <td>98</td>\n",
       "      <td>0</td>\n",
       "      <td>0</td>\n",
       "      <td>0</td>\n",
       "      <td>0</td>\n",
       "    </tr>\n",
       "    <tr>\n",
       "      <th>4</th>\n",
       "      <td>2000</td>\n",
       "      <td>Marvin Benard</td>\n",
       "      <td>Giants</td>\n",
       "      <td>149</td>\n",
       "      <td>560</td>\n",
       "      <td>633</td>\n",
       "      <td>147</td>\n",
       "      <td>102</td>\n",
       "      <td>55</td>\n",
       "      <td>12</td>\n",
       "      <td>...</td>\n",
       "      <td>2.3</td>\n",
       "      <td>98</td>\n",
       "      <td>0.272</td>\n",
       "      <td>1382</td>\n",
       "      <td>0</td>\n",
       "      <td>78</td>\n",
       "      <td>0</td>\n",
       "      <td>0</td>\n",
       "      <td>0</td>\n",
       "      <td>0</td>\n",
       "    </tr>\n",
       "  </tbody>\n",
       "</table>\n",
       "<p>5 rows × 28 columns</p>\n",
       "</div>"
      ],
      "text/plain": [
       "   Season               Name      Team    G   AB   PA    H    R  RBI  HR  ...  \\\n",
       "0    1999     Alex Rodriguez  Mariners  129  502  572  143  110  111  42  ...   \n",
       "1    1999    Garret Anderson    Angels  157  620  660  188   88   80  21  ...   \n",
       "2    1999      Robin Ventura      Mets  161  588  671  177   88  120  32  ...   \n",
       "3    2008  Edwin Encarnacion      Reds  146  506  582  127   75   68  26  ...   \n",
       "4    2000      Marvin Benard    Giants  149  560  633  147  102   55  12  ...   \n",
       "\n",
       "   WAR  OBP+   TTO%  playerid  MVP  OPS+  traditional predictions  \\\n",
       "0  4.7   103  0.362      1274    0   120                        0   \n",
       "1  2.4    97  0.206         2    0    90                        0   \n",
       "2  7.3   108  0.320       854    0   115                        0   \n",
       "3  1.6   100  0.325      2151    0    98                        0   \n",
       "4  2.3    98  0.272      1382    0    78                        0   \n",
       "\n",
       "   sabr_predictions  trad_proj  sabr_proj  \n",
       "0                 0          0          0  \n",
       "1                 0          0          0  \n",
       "2                 0          0          1  \n",
       "3                 0          0          0  \n",
       "4                 0          0          0  \n",
       "\n",
       "[5 rows x 28 columns]"
      ]
     },
     "execution_count": 3,
     "metadata": {},
     "output_type": "execute_result"
    }
   ],
   "source": [
    "df.head()"
   ]
  },
  {
   "cell_type": "code",
   "execution_count": 4,
   "metadata": {},
   "outputs": [],
   "source": [
    "no_fun = ['H', 'RBI', 'HR', 'SO', 'AVG', 'OBP', 'OPS']\n",
    "sabr = ['R', 'BB', 'IBB', 'OPS+', 'wRC+', 'WAR', 'TTO%']"
   ]
  },
  {
   "cell_type": "code",
   "execution_count": 5,
   "metadata": {},
   "outputs": [],
   "source": [
    "X_t = df[no_fun]\n",
    "X_s = df[sabr]\n",
    "y = df['MVP']"
   ]
  },
  {
   "cell_type": "code",
   "execution_count": 6,
   "metadata": {},
   "outputs": [],
   "source": [
    "X_train, X_test, y_train, y_test = train_test_split(X_t, y, stratify = y)\n",
    "\n",
    "ss = StandardScaler()"
   ]
  },
  {
   "cell_type": "code",
   "execution_count": 7,
   "metadata": {},
   "outputs": [
    {
     "name": "stderr",
     "output_type": "stream",
     "text": [
      "/Users/brianschor/anaconda3/lib/python3.6/site-packages/sklearn/preprocessing/data.py:625: DataConversionWarning: Data with input dtype int64, float64 were all converted to float64 by StandardScaler.\n",
      "  return self.partial_fit(X, y)\n",
      "/Users/brianschor/anaconda3/lib/python3.6/site-packages/sklearn/base.py:462: DataConversionWarning: Data with input dtype int64, float64 were all converted to float64 by StandardScaler.\n",
      "  return self.fit(X, **fit_params).transform(X)\n",
      "/Users/brianschor/anaconda3/lib/python3.6/site-packages/ipykernel_launcher.py:2: DataConversionWarning: Data with input dtype int64, float64 were all converted to float64 by StandardScaler.\n",
      "  \n"
     ]
    }
   ],
   "source": [
    "X_train_sc = ss.fit_transform(X_train)\n",
    "X_test_sc = ss.transform(X_test)"
   ]
  },
  {
   "cell_type": "code",
   "execution_count": 8,
   "metadata": {},
   "outputs": [
    {
     "name": "stdout",
     "output_type": "stream",
     "text": [
      "WARNING:tensorflow:From /Users/brianschor/anaconda3/lib/python3.6/site-packages/tensorflow/python/framework/op_def_library.py:263: colocate_with (from tensorflow.python.framework.ops) is deprecated and will be removed in a future version.\n",
      "Instructions for updating:\n",
      "Colocations handled automatically by placer.\n"
     ]
    }
   ],
   "source": [
    "model = Sequential()\n",
    "\n",
    "model.add(Dense(14, activation='relu',\n",
    "               input_shape = (X_train.shape[1],)))\n",
    "model.add(Dense(14, activation='relu'))\n",
    "model.add(Dense(1, activation='sigmoid'))"
   ]
  },
  {
   "cell_type": "code",
   "execution_count": 9,
   "metadata": {},
   "outputs": [],
   "source": [
    "model.compile(loss = 'binary_crossentropy',\n",
    "             optimizer='adam',\n",
    "             metrics=['accuracy'])"
   ]
  },
  {
   "cell_type": "code",
   "execution_count": 10,
   "metadata": {},
   "outputs": [
    {
     "name": "stdout",
     "output_type": "stream",
     "text": [
      "WARNING:tensorflow:From /Users/brianschor/anaconda3/lib/python3.6/site-packages/tensorflow/python/ops/math_ops.py:3066: to_int32 (from tensorflow.python.ops.math_ops) is deprecated and will be removed in a future version.\n",
      "Instructions for updating:\n",
      "Use tf.cast instead.\n",
      "Train on 2250 samples, validate on 750 samples\n",
      "Epoch 1/10\n",
      "2250/2250 [==============================] - 0s 199us/step - loss: 0.6431 - acc: 0.7378 - val_loss: 0.6107 - val_acc: 0.7867\n",
      "Epoch 2/10\n",
      "2250/2250 [==============================] - 0s 11us/step - loss: 0.5904 - acc: 0.8080 - val_loss: 0.5604 - val_acc: 0.8573\n",
      "Epoch 3/10\n",
      "2250/2250 [==============================] - 0s 12us/step - loss: 0.5444 - acc: 0.8711 - val_loss: 0.5170 - val_acc: 0.8800\n",
      "Epoch 4/10\n",
      "2250/2250 [==============================] - 0s 14us/step - loss: 0.5036 - acc: 0.8924 - val_loss: 0.4792 - val_acc: 0.8960\n",
      "Epoch 5/10\n",
      "2250/2250 [==============================] - 0s 14us/step - loss: 0.4686 - acc: 0.8987 - val_loss: 0.4454 - val_acc: 0.9067\n",
      "Epoch 6/10\n",
      "2250/2250 [==============================] - 0s 9us/step - loss: 0.4365 - acc: 0.9013 - val_loss: 0.4148 - val_acc: 0.9107\n",
      "Epoch 7/10\n",
      "2250/2250 [==============================] - 0s 11us/step - loss: 0.4075 - acc: 0.9044 - val_loss: 0.3870 - val_acc: 0.9133\n",
      "Epoch 8/10\n",
      "2250/2250 [==============================] - 0s 11us/step - loss: 0.3817 - acc: 0.9058 - val_loss: 0.3620 - val_acc: 0.9120\n",
      "Epoch 9/10\n",
      "2250/2250 [==============================] - 0s 10us/step - loss: 0.3583 - acc: 0.9062 - val_loss: 0.3401 - val_acc: 0.9120\n",
      "Epoch 10/10\n",
      "2250/2250 [==============================] - 0s 11us/step - loss: 0.3379 - acc: 0.9067 - val_loss: 0.3209 - val_acc: 0.9133\n"
     ]
    }
   ],
   "source": [
    "history = model.fit(X_train_sc, y_train, epochs = 10, batch_size = 300, validation_data=(X_test_sc, y_test))"
   ]
  },
  {
   "cell_type": "code",
   "execution_count": 11,
   "metadata": {},
   "outputs": [
    {
     "data": {
      "image/png": "[encoded data removed]",
      "text/plain": [
       "<Figure size 432x288 with 1 Axes>"
      ]
     },
     "metadata": {
      "needs_background": "light"
     },
     "output_type": "display_data"
    }
   ],
   "source": [
    "plt.plot(history.history['loss'], label='Train loss')\n",
    "plt.plot(history.history['val_loss'], label='Test loss')\n",
    "plt.legend();"
   ]
  },
  {
   "cell_type": "code",
   "execution_count": 19,
   "metadata": {},
   "outputs": [
    {
     "data": {
      "image/png": "[encoded data removed]",
      "text/plain": [
       "<Figure size 432x288 with 1 Axes>"
      ]
     },
     "metadata": {
      "needs_background": "light"
     },
     "output_type": "display_data"
    }
   ],
   "source": [
    "plt.plot(history.history['acc'], label='Train accuracy')\n",
    "plt.plot(history.history['val_acc'], label='Test accuracy')\n",
    "plt.legend()\n",
    "plt.title('Traditional Hitting Neural Net Accuracy')\n",
    "plt.savefig('Hitting NNT');"
   ]
  },
  {
   "cell_type": "code",
   "execution_count": 13,
   "metadata": {},
   "outputs": [
    {
     "name": "stderr",
     "output_type": "stream",
     "text": [
      "/Users/brianschor/anaconda3/lib/python3.6/site-packages/sklearn/preprocessing/data.py:625: DataConversionWarning: Data with input dtype int64, float64 were all converted to float64 by StandardScaler.\n",
      "  return self.partial_fit(X, y)\n",
      "/Users/brianschor/anaconda3/lib/python3.6/site-packages/sklearn/base.py:462: DataConversionWarning: Data with input dtype int64, float64 were all converted to float64 by StandardScaler.\n",
      "  return self.fit(X, **fit_params).transform(X)\n",
      "/Users/brianschor/anaconda3/lib/python3.6/site-packages/ipykernel_launcher.py:4: DataConversionWarning: Data with input dtype int64, float64 were all converted to float64 by StandardScaler.\n",
      "  after removing the cwd from sys.path.\n"
     ]
    }
   ],
   "source": [
    "X_train, X_test, y_train, y_test = train_test_split(X_s, y, stratify = y)\n",
    "\n",
    "X_train_sc = ss.fit_transform(X_train)\n",
    "X_test_sc = ss.transform(X_test)\n",
    "\n"
   ]
  },
  {
   "cell_type": "code",
   "execution_count": 14,
   "metadata": {},
   "outputs": [],
   "source": [
    "model = Sequential()\n",
    "\n",
    "model.add(Dense(14, activation='relu',\n",
    "               input_shape = (X_train.shape[1],)))\n",
    "model.add(Dense(14, activation='relu'))\n",
    "model.add(Dense(1, activation='sigmoid'))\n",
    "\n",
    "model.compile(loss = 'binary_crossentropy',\n",
    "             optimizer='adam',\n",
    "             metrics=['accuracy'])"
   ]
  },
  {
   "cell_type": "code",
   "execution_count": 15,
   "metadata": {},
   "outputs": [
    {
     "name": "stdout",
     "output_type": "stream",
     "text": [
      "Train on 2250 samples, validate on 750 samples\n",
      "Epoch 1/10\n",
      "2250/2250 [==============================] - 0s 196us/step - loss: 0.6600 - acc: 0.6800 - val_loss: 0.6417 - val_acc: 0.7613\n",
      "Epoch 2/10\n",
      "2250/2250 [==============================] - 0s 14us/step - loss: 0.6245 - acc: 0.7724 - val_loss: 0.6103 - val_acc: 0.8120\n",
      "Epoch 3/10\n",
      "2250/2250 [==============================] - 0s 12us/step - loss: 0.5923 - acc: 0.8347 - val_loss: 0.5809 - val_acc: 0.8507\n",
      "Epoch 4/10\n",
      "2250/2250 [==============================] - 0s 15us/step - loss: 0.5621 - acc: 0.8640 - val_loss: 0.5532 - val_acc: 0.8640\n",
      "Epoch 5/10\n",
      "2250/2250 [==============================] - 0s 10us/step - loss: 0.5332 - acc: 0.8782 - val_loss: 0.5266 - val_acc: 0.8827\n",
      "Epoch 6/10\n",
      "2250/2250 [==============================] - 0s 11us/step - loss: 0.5055 - acc: 0.8924 - val_loss: 0.5006 - val_acc: 0.8987\n",
      "Epoch 7/10\n",
      "2250/2250 [==============================] - 0s 11us/step - loss: 0.4784 - acc: 0.9036 - val_loss: 0.4752 - val_acc: 0.9040\n",
      "Epoch 8/10\n",
      "2250/2250 [==============================] - 0s 11us/step - loss: 0.4520 - acc: 0.9071 - val_loss: 0.4502 - val_acc: 0.9080\n",
      "Epoch 9/10\n",
      "2250/2250 [==============================] - 0s 12us/step - loss: 0.4260 - acc: 0.9093 - val_loss: 0.4260 - val_acc: 0.9053\n",
      "Epoch 10/10\n",
      "2250/2250 [==============================] - 0s 12us/step - loss: 0.4010 - acc: 0.9084 - val_loss: 0.4030 - val_acc: 0.9067\n"
     ]
    }
   ],
   "source": [
    "history = model.fit(X_train_sc, y_train, epochs = 10, batch_size = 300, validation_data=(X_test_sc, y_test))"
   ]
  },
  {
   "cell_type": "code",
   "execution_count": 16,
   "metadata": {},
   "outputs": [
    {
     "data": {
      "image/png": "[encoded data removed]",
      "text/plain": [
       "<Figure size 432x288 with 1 Axes>"
      ]
     },
     "metadata": {
      "needs_background": "light"
     },
     "output_type": "display_data"
    }
   ],
   "source": [
    "plt.plot(history.history['loss'], label='Train loss')\n",
    "plt.plot(history.history['val_loss'], label='Test loss')\n",
    "plt.legend();"
   ]
  },
  {
   "cell_type": "code",
   "execution_count": 17,
   "metadata": {},
   "outputs": [
    {
     "data": {
      "image/png": "[encoded data removed]",
      "text/plain": [
       "<Figure size 432x288 with 1 Axes>"
      ]
     },
     "metadata": {
      "needs_background": "light"
     },
     "output_type": "display_data"
    }
   ],
   "source": [
    "plt.plot(history.history['acc'], label='Train accuracy')\n",
    "plt.plot(history.history['val_acc'], label='Test accuracy')\n",
    "plt.legend();"
   ]
  },
  {
   "cell_type": "code",
   "execution_count": null,
   "metadata": {},
   "outputs": [],
   "source": []
  }
 ],
 "metadata": {
  "kernelspec": {
   "display_name": "Python 3",
   "language": "python",
   "name": "python3"
  },
  "language_info": {
   "codemirror_mode": {
    "name": "ipython",
    "version": 3
   },
   "file_extension": ".py",
   "mimetype": "text/x-python",
   "name": "python",
   "nbconvert_exporter": "python",
   "pygments_lexer": "ipython3",
   "version": "3.6.8"
  }
 },
 "nbformat": 4,
 "nbformat_minor": 2
}
